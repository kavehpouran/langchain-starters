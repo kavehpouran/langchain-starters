{
 "cells": [
  {
   "cell_type": "code",
   "execution_count": 38,
   "id": "f4062059-dd46-44b8-80b2-6dd2105e08a2",
   "metadata": {},
   "outputs": [],
   "source": [
    "# Requirements\n",
    "# !pip install -U langchain-community langgraph langchain-anthropic tavily-python langgraph-checkpoint-sqlite\n",
    "# !pip install langchain_openai ALTERNATIVELY !pip install langchain-anthropic"
   ]
  },
  {
   "cell_type": "code",
   "execution_count": 8,
   "id": "24e8846b-63e8-491c-82cd-25c0a5b5106b",
   "metadata": {},
   "outputs": [],
   "source": [
    "# !pip install tavily-python langgraph-checkpoint-sqlite"
   ]
  },
  {
   "cell_type": "code",
   "execution_count": 24,
   "id": "e65d99e5-de0f-4510-9244-d08c4d7162b1",
   "metadata": {},
   "outputs": [],
   "source": [
    "import getpass\n",
    "import os\n",
    "\n",
    "# Import relevant functionality\n",
    "\n",
    "from langchain_openai import ChatOpenAI\n",
    "#from langchain_anthropic import ChatAnthropic # Alternative model\n",
    "\n",
    "from langchain_community.tools.tavily_search import TavilySearchResults\n",
    "from langchain_core.messages import HumanMessage\n",
    "from langgraph.checkpoint.memory import MemorySaver\n",
    "from langgraph.prebuilt import create_react_agent\n",
    "\n",
    "os.environ[\"LANGCHAIN_TRACING_V2\"] = \"true\"\n",
    " \n",
    "if not os.environ.get(\"LANGCHAIN_API_KEY\"):\n",
    "  os.environ[\"LANGCHAIN_API_KEY\"] = getpass.getpass(\"Enter your Langchain/Langsmith key: \")\n",
    "\n",
    "if not os.environ.get(\"TAVILY_API_KEY\"):\n",
    "  os.environ[\"TAVILY_API_KEY\"] = getpass.getpass(\"Enter API key for Tavily web search: \")\n",
    "\n",
    "if not os.environ.get(\"OPENAI_API_KEY\"):\n",
    "  os.environ[\"OPENAI_API_KEY\"] = getpass.getpass(\"Enter API key for OpenAI: \")"
   ]
  },
  {
   "cell_type": "code",
   "execution_count": null,
   "id": "85befec3-a230-4430-9228-5c6c1563d277",
   "metadata": {},
   "outputs": [],
   "source": []
  },
  {
   "cell_type": "code",
   "execution_count": 18,
   "id": "8054e2c6-f99b-4fb5-9500-17859fdbda58",
   "metadata": {},
   "outputs": [
    {
     "name": "stdout",
     "output_type": "stream",
     "text": [
      "[{'url': 'https://www.weatherapi.com/', 'content': \"{'location': {'name': 'San Francisco', 'region': 'California', 'country': 'United States of America', 'lat': 37.775, 'lon': -122.4183, 'tz_id': 'America/Los_Angeles', 'localtime_epoch': 1734527744, 'localtime': '2024-12-18 05:15'}, 'current': {'last_updated_epoch': 1734526800, 'last_updated': '2024-12-18 05:00', 'temp_c': 6.7, 'temp_f': 44.1, 'is_day': 0, 'condition': {'text': 'Fog', 'icon': '//cdn.weatherapi.com/weather/64x64/night/248.png', 'code': 1135}, 'wind_mph': 5.4, 'wind_kph': 8.6, 'wind_degree': 71, 'wind_dir': 'ENE', 'pressure_mb': 1028.0, 'pressure_in': 30.35, 'precip_mm': 0.0, 'precip_in': 0.0, 'humidity': 93, 'cloud': 0, 'feelslike_c': 5.0, 'feelslike_f': 41.0, 'windchill_c': 8.1, 'windchill_f': 46.6, 'heatindex_c': 8.4, 'heatindex_f': 47.2, 'dewpoint_c': 7.8, 'dewpoint_f': 46.0, 'vis_km': 0.2, 'vis_miles': 0.0, 'uv': 0.0, 'gust_mph': 10.2, 'gust_kph': 16.4}}\"}, {'url': 'https://www.wunderground.com/history/daily/us/ca/san-francisco/KCASANFR1708/date/2024-12-18', 'content': 'San Francisco, CA Weather History | Weather Underground Sensor Network Maps & Radar Severe Weather News & Blogs Mobile Apps account_box Log in Go Ad Free_settings_ Settings Sensor NetworkMaps & RadarSevere WeatherNews & BlogsMobile AppsHistorical Weather San Francisco, CA Weather History_star_rate__home_ 48\\xa0°F San Francisco Intl Airport Station|Report Report Station Thank you for reporting this station. We will review the data in question. You are about to report this weather station for bad data. Current Station Personal Weather Station Nearby Weather Stations Showing Stations No data recorded No Data Recorded Data Vendors We recognize our responsibility to use data and technology for good. We may use or share your data with our data vendors. Take control of your data. Data Rights'}]\n"
     ]
    }
   ],
   "source": [
    "search = TavilySearchResults(max_results=2)\n",
    "search_results = search.invoke(\"what is the weather in SF\")\n",
    "print(search_results)\n",
    "# If we want, we can create other tools.\n",
    "# Once we have all the tools we want, we can put them in a list that we will reference later.\n",
    "tools = [search]"
   ]
  },
  {
   "cell_type": "code",
   "execution_count": 27,
   "id": "8d1eccfd-56ed-4729-b021-7a8170e395f5",
   "metadata": {},
   "outputs": [],
   "source": [
    "model = ChatOpenAI(model=\"gpt-4\")\n",
    "#model = ChatAnthropic(model_name=\"claude-3-sonnet-20240229\")"
   ]
  },
  {
   "cell_type": "code",
   "execution_count": 28,
   "id": "1136824b-6d24-4a64-8864-910973c4c009",
   "metadata": {},
   "outputs": [
    {
     "data": {
      "text/plain": [
       "'Hello! How can I assist you today?'"
      ]
     },
     "execution_count": 28,
     "metadata": {},
     "output_type": "execute_result"
    }
   ],
   "source": [
    "from langchain_core.messages import HumanMessage\n",
    "\n",
    "response = model.invoke([HumanMessage(content=\"hi!\")])\n",
    "response.content"
   ]
  },
  {
   "cell_type": "code",
   "execution_count": 37,
   "id": "a5ce6e4b-560d-4f21-8686-b1821354d80d",
   "metadata": {},
   "outputs": [
    {
     "data": {
      "text/plain": [
       "'\\nagent_executor = create_react_agent(model, tools, checkpointer=memory)\\n\\n# Use the agent\\nconfig = {\"configurable\": {\"thread_id\": \"abc123\"}}\\nfor chunk in agent_executor.stream(\\n    {\"messages\": [HumanMessage(content=\"hi im bob! and i live in sf\")]}, config\\n):\\n    print(chunk)\\n    print(\"----\")\\n\\nfor chunk in agent_executor.stream(\\n    {\"messages\": [HumanMessage(content=\"whats the weather where I live?\")]}, config\\n):\\n    print(chunk)\\n    print(\"----\")\\n'"
      ]
     },
     "execution_count": 37,
     "metadata": {},
     "output_type": "execute_result"
    }
   ],
   "source": [
    "# Create the agent\n",
    "memory = MemorySaver()\n",
    "\n",
    "search = TavilySearchResults(max_results=2)\n",
    "tools = [search]\n",
    "\n",
    "\"\"\"\n",
    "agent_executor = create_react_agent(model, tools, checkpointer=memory)\n",
    "\n",
    "# Use the agent\n",
    "config = {\"configurable\": {\"thread_id\": \"abc123\"}}\n",
    "for chunk in agent_executor.stream(\n",
    "    {\"messages\": [HumanMessage(content=\"hi im bob! and i live in sf\")]}, config\n",
    "):\n",
    "    print(chunk)\n",
    "    print(\"----\")\n",
    "\n",
    "for chunk in agent_executor.stream(\n",
    "    {\"messages\": [HumanMessage(content=\"whats the weather where I live?\")]}, config\n",
    "):\n",
    "    print(chunk)\n",
    "    print(\"----\")\n",
    "\"\"\"\n"
   ]
  },
  {
   "cell_type": "code",
   "execution_count": 39,
   "id": "066997c5-cbc7-462e-b1da-198227b63214",
   "metadata": {},
   "outputs": [],
   "source": [
    "model_with_tools = model.bind_tools(tools)"
   ]
  },
  {
   "cell_type": "code",
   "execution_count": 40,
   "id": "61d3c5fb-d690-423c-b61d-e8e7cc146991",
   "metadata": {},
   "outputs": [
    {
     "name": "stdout",
     "output_type": "stream",
     "text": [
      "ContentString: Hello! How can I assist you today?\n",
      "ToolCalls: []\n"
     ]
    }
   ],
   "source": [
    "response = model_with_tools.invoke([HumanMessage(content=\"Hi!\")])\n",
    "\n",
    "print(f\"ContentString: {response.content}\")\n",
    "print(f\"ToolCalls: {response.tool_calls}\")"
   ]
  },
  {
   "cell_type": "code",
   "execution_count": 41,
   "id": "33086891-86c6-4721-be8d-d6cf9288c4f9",
   "metadata": {},
   "outputs": [
    {
     "name": "stdout",
     "output_type": "stream",
     "text": [
      "ContentString: \n",
      "ToolCalls: [{'name': 'tavily_search_results_json', 'args': {'query': 'current weather in San Francisco'}, 'id': 'call_k9JAJrocEbdYdv1tEIpMQoEm', 'type': 'tool_call'}]\n"
     ]
    }
   ],
   "source": [
    "response = model_with_tools.invoke([HumanMessage(content=\"What's the weather in SF?\")])\n",
    "\n",
    "print(f\"ContentString: {response.content}\")\n",
    "print(f\"ToolCalls: {response.tool_calls}\")"
   ]
  },
  {
   "cell_type": "markdown",
   "id": "16c4ece9-e4fd-4272-9c59-a977cf559aa3",
   "metadata": {},
   "source": [
    "- We can see that there's now no text content, but there is a tool call! It wants us to call the Tavily Search tool.\n",
    "- This isn't calling that tool yet - it's just telling us to. In order to actually call it, we'll want to create our agent."
   ]
  },
  {
   "cell_type": "markdown",
   "id": "8a881d56-f1ba-4449-8af1-d95a18ba623b",
   "metadata": {},
   "source": [
    "## Create the agent"
   ]
  },
  {
   "cell_type": "code",
   "execution_count": 42,
   "id": "d0e13872-25ec-4af7-a643-5cf7778705da",
   "metadata": {},
   "outputs": [],
   "source": [
    "agent_executor = create_react_agent(model, tools)"
   ]
  },
  {
   "cell_type": "code",
   "execution_count": 45,
   "id": "fc654c91-362f-4955-8336-9ac775339906",
   "metadata": {},
   "outputs": [
    {
     "data": {
      "text/plain": [
       "[HumanMessage(content='hi!', additional_kwargs={}, response_metadata={}, id='c77eb002-2e3c-4525-bda2-483644a245f4'),\n",
       " AIMessage(content='Hello! How can I assist you today?', additional_kwargs={'refusal': None}, response_metadata={'token_usage': {'completion_tokens': 10, 'prompt_tokens': 83, 'total_tokens': 93, 'completion_tokens_details': {'accepted_prediction_tokens': 0, 'audio_tokens': 0, 'reasoning_tokens': 0, 'rejected_prediction_tokens': 0}, 'prompt_tokens_details': {'audio_tokens': 0, 'cached_tokens': 0}}, 'model_name': 'gpt-4-0613', 'system_fingerprint': None, 'finish_reason': 'stop', 'logprobs': None}, id='run-f2fa3a21-0819-47d1-8347-c475585b787b-0', usage_metadata={'input_tokens': 83, 'output_tokens': 10, 'total_tokens': 93, 'input_token_details': {'audio': 0, 'cache_read': 0}, 'output_token_details': {'audio': 0, 'reasoning': 0}})]"
      ]
     },
     "execution_count": 45,
     "metadata": {},
     "output_type": "execute_result"
    }
   ],
   "source": [
    "response = agent_executor.invoke({\"messages\": [HumanMessage(content=\"hi!\")]})\n",
    "\n",
    "response[\"messages\"]"
   ]
  },
  {
   "cell_type": "code",
   "execution_count": 46,
   "id": "cc4b75d8-2574-4c2a-bb90-bfb52cedb32e",
   "metadata": {},
   "outputs": [
    {
     "data": {
      "text/plain": [
       "[HumanMessage(content='whats the weather in sf?', additional_kwargs={}, response_metadata={}, id='11b2c477-b9b7-4c96-8827-19f36506d4ba'),\n",
       " AIMessage(content='', additional_kwargs={'tool_calls': [{'id': 'call_J8Uknl04SATfuZ9Wkrnopoc7', 'function': {'arguments': '{\\n  \"query\": \"current weather in San Francisco\"\\n}', 'name': 'tavily_search_results_json'}, 'type': 'function'}], 'refusal': None}, response_metadata={'token_usage': {'completion_tokens': 23, 'prompt_tokens': 88, 'total_tokens': 111, 'completion_tokens_details': {'accepted_prediction_tokens': 0, 'audio_tokens': 0, 'reasoning_tokens': 0, 'rejected_prediction_tokens': 0}, 'prompt_tokens_details': {'audio_tokens': 0, 'cached_tokens': 0}}, 'model_name': 'gpt-4-0613', 'system_fingerprint': None, 'finish_reason': 'tool_calls', 'logprobs': None}, id='run-29b36a91-4ea0-48a7-afb6-cc7601b47014-0', tool_calls=[{'name': 'tavily_search_results_json', 'args': {'query': 'current weather in San Francisco'}, 'id': 'call_J8Uknl04SATfuZ9Wkrnopoc7', 'type': 'tool_call'}], usage_metadata={'input_tokens': 88, 'output_tokens': 23, 'total_tokens': 111, 'input_token_details': {'audio': 0, 'cache_read': 0}, 'output_token_details': {'audio': 0, 'reasoning': 0}}),\n",
       " ToolMessage(content='[{\"url\": \"https://www.weatherapi.com/\", \"content\": \"{\\'location\\': {\\'name\\': \\'San Francisco\\', \\'region\\': \\'California\\', \\'country\\': \\'United States of America\\', \\'lat\\': 37.775, \\'lon\\': -122.4183, \\'tz_id\\': \\'America/Los_Angeles\\', \\'localtime_epoch\\': 1734584081, \\'localtime\\': \\'2024-12-18 20:54\\'}, \\'current\\': {\\'last_updated_epoch\\': 1734583500, \\'last_updated\\': \\'2024-12-18 20:45\\', \\'temp_c\\': 10.8, \\'temp_f\\': 51.4, \\'is_day\\': 0, \\'condition\\': {\\'text\\': \\'Partly Cloudy\\', \\'icon\\': \\'//cdn.weatherapi.com/weather/64x64/night/116.png\\', \\'code\\': 1003}, \\'wind_mph\\': 7.6, \\'wind_kph\\': 12.2, \\'wind_degree\\': 29, \\'wind_dir\\': \\'NNE\\', \\'pressure_mb\\': 1024.0, \\'pressure_in\\': 30.22, \\'precip_mm\\': 0.0, \\'precip_in\\': 0.0, \\'humidity\\': 93, \\'cloud\\': 43, \\'feelslike_c\\': 10.0, \\'feelslike_f\\': 50.0, \\'windchill_c\\': 10.0, \\'windchill_f\\': 50.0, \\'heatindex_c\\': 10.8, \\'heatindex_f\\': 51.4, \\'dewpoint_c\\': 9.7, \\'dewpoint_f\\': 49.5, \\'vis_km\\': 10.0, \\'vis_miles\\': 6.0, \\'uv\\': 0.0, \\'gust_mph\\': 14.6, \\'gust_kph\\': 23.4}}\"}, {\"url\": \"https://world-weather.info/forecast/usa/san_francisco/december-2024/\", \"content\": \"Detailed ⚡ San Francisco Weather Forecast for December 2024 - day/night 🌡️ temperatures, precipitations - World-Weather.info ... World; United States; California; Weather in San Francisco; Weather in San Francisco in December 2024. San Francisco Weather Forecast for December 2024 is based on long term prognosis and previous years\"}]', name='tavily_search_results_json', id='f95d7034-62f6-4000-a40f-43a7ee70cd91', tool_call_id='call_J8Uknl04SATfuZ9Wkrnopoc7', artifact={'query': 'current weather in San Francisco', 'follow_up_questions': None, 'answer': None, 'images': [], 'results': [{'title': 'Weather in San Francisco', 'url': 'https://www.weatherapi.com/', 'content': \"{'location': {'name': 'San Francisco', 'region': 'California', 'country': 'United States of America', 'lat': 37.775, 'lon': -122.4183, 'tz_id': 'America/Los_Angeles', 'localtime_epoch': 1734584081, 'localtime': '2024-12-18 20:54'}, 'current': {'last_updated_epoch': 1734583500, 'last_updated': '2024-12-18 20:45', 'temp_c': 10.8, 'temp_f': 51.4, 'is_day': 0, 'condition': {'text': 'Partly Cloudy', 'icon': '//cdn.weatherapi.com/weather/64x64/night/116.png', 'code': 1003}, 'wind_mph': 7.6, 'wind_kph': 12.2, 'wind_degree': 29, 'wind_dir': 'NNE', 'pressure_mb': 1024.0, 'pressure_in': 30.22, 'precip_mm': 0.0, 'precip_in': 0.0, 'humidity': 93, 'cloud': 43, 'feelslike_c': 10.0, 'feelslike_f': 50.0, 'windchill_c': 10.0, 'windchill_f': 50.0, 'heatindex_c': 10.8, 'heatindex_f': 51.4, 'dewpoint_c': 9.7, 'dewpoint_f': 49.5, 'vis_km': 10.0, 'vis_miles': 6.0, 'uv': 0.0, 'gust_mph': 14.6, 'gust_kph': 23.4}}\", 'score': 0.916379, 'raw_content': None}, {'title': 'Weather in San Francisco in December 2024', 'url': 'https://world-weather.info/forecast/usa/san_francisco/december-2024/', 'content': 'Detailed ⚡ San Francisco Weather Forecast for December 2024 - day/night 🌡️ temperatures, precipitations - World-Weather.info ... World; United States; California; Weather in San Francisco; Weather in San Francisco in December 2024. San Francisco Weather Forecast for December 2024 is based on long term prognosis and previous years', 'score': 0.72884524, 'raw_content': None}], 'response_time': 2.57}),\n",
       " AIMessage(content='The current weather in San Francisco, California is partly cloudy with a temperature of 10.8°C (51.4°F). The wind is coming from the NNE at a speed of 12.2 kph (7.6 mph). The atmospheric pressure is 1024.0 mb and the humidity is 93%. [Source](https://www.weatherapi.com/)', additional_kwargs={'refusal': None}, response_metadata={'token_usage': {'completion_tokens': 78, 'prompt_tokens': 635, 'total_tokens': 713, 'completion_tokens_details': {'accepted_prediction_tokens': 0, 'audio_tokens': 0, 'reasoning_tokens': 0, 'rejected_prediction_tokens': 0}, 'prompt_tokens_details': {'audio_tokens': 0, 'cached_tokens': 0}}, 'model_name': 'gpt-4-0613', 'system_fingerprint': None, 'finish_reason': 'stop', 'logprobs': None}, id='run-9c2a2881-bf79-41e1-a36b-6c7a5efec19e-0', usage_metadata={'input_tokens': 635, 'output_tokens': 78, 'total_tokens': 713, 'input_token_details': {'audio': 0, 'cache_read': 0}, 'output_token_details': {'audio': 0, 'reasoning': 0}})]"
      ]
     },
     "execution_count": 46,
     "metadata": {},
     "output_type": "execute_result"
    }
   ],
   "source": [
    "response = agent_executor.invoke(\n",
    "    {\"messages\": [HumanMessage(content=\"whats the weather in sf?\")]}\n",
    ")\n",
    "response[\"messages\"]"
   ]
  },
  {
   "cell_type": "markdown",
   "id": "2328a117-b9ff-4574-906c-ee66d32ad052",
   "metadata": {},
   "source": [
    "## Streaming messages"
   ]
  },
  {
   "cell_type": "code",
   "execution_count": 47,
   "id": "f4485a5e-a99d-4f1a-aa69-1c80c1219183",
   "metadata": {},
   "outputs": [
    {
     "name": "stdout",
     "output_type": "stream",
     "text": [
      "{'agent': {'messages': [AIMessage(content='', additional_kwargs={'tool_calls': [{'id': 'call_7YD1PZqwRLgKejxC2xH5VpHx', 'function': {'arguments': '{\\n  \"query\": \"weather in San Francisco\"\\n}', 'name': 'tavily_search_results_json'}, 'type': 'function'}], 'refusal': None}, response_metadata={'token_usage': {'completion_tokens': 22, 'prompt_tokens': 88, 'total_tokens': 110, 'completion_tokens_details': {'accepted_prediction_tokens': 0, 'audio_tokens': 0, 'reasoning_tokens': 0, 'rejected_prediction_tokens': 0}, 'prompt_tokens_details': {'audio_tokens': 0, 'cached_tokens': 0}}, 'model_name': 'gpt-4-0613', 'system_fingerprint': None, 'finish_reason': 'tool_calls', 'logprobs': None}, id='run-c7424144-b2cb-4c39-984e-8c1670be6e86-0', tool_calls=[{'name': 'tavily_search_results_json', 'args': {'query': 'weather in San Francisco'}, 'id': 'call_7YD1PZqwRLgKejxC2xH5VpHx', 'type': 'tool_call'}], usage_metadata={'input_tokens': 88, 'output_tokens': 22, 'total_tokens': 110, 'input_token_details': {'audio': 0, 'cache_read': 0}, 'output_token_details': {'audio': 0, 'reasoning': 0}})]}}\n",
      "----\n",
      "{'tools': {'messages': [ToolMessage(content='[{\"url\": \"https://www.weatherapi.com/\", \"content\": \"{\\'location\\': {\\'name\\': \\'San Francisco\\', \\'region\\': \\'California\\', \\'country\\': \\'United States of America\\', \\'lat\\': 37.775, \\'lon\\': -122.4183, \\'tz_id\\': \\'America/Los_Angeles\\', \\'localtime_epoch\\': 1734584480, \\'localtime\\': \\'2024-12-18 21:01\\'}, \\'current\\': {\\'last_updated_epoch\\': 1734584400, \\'last_updated\\': \\'2024-12-18 21:00\\', \\'temp_c\\': 10.6, \\'temp_f\\': 51.2, \\'is_day\\': 0, \\'condition\\': {\\'text\\': \\'Partly Cloudy\\', \\'icon\\': \\'//cdn.weatherapi.com/weather/64x64/night/116.png\\', \\'code\\': 1003}, \\'wind_mph\\': 6.9, \\'wind_kph\\': 11.2, \\'wind_degree\\': 41, \\'wind_dir\\': \\'NE\\', \\'pressure_mb\\': 1024.0, \\'pressure_in\\': 30.23, \\'precip_mm\\': 0.0, \\'precip_in\\': 0.0, \\'humidity\\': 93, \\'cloud\\': 56, \\'feelslike_c\\': 10.1, \\'feelslike_f\\': 50.1, \\'windchill_c\\': 10.1, \\'windchill_f\\': 50.1, \\'heatindex_c\\': 10.6, \\'heatindex_f\\': 51.2, \\'dewpoint_c\\': 9.6, \\'dewpoint_f\\': 49.2, \\'vis_km\\': 10.0, \\'vis_miles\\': 6.0, \\'uv\\': 0.0, \\'gust_mph\\': 13.6, \\'gust_kph\\': 21.9}}\"}, {\"url\": \"https://world-weather.info/forecast/usa/san_francisco/december-2024/\", \"content\": \"Detailed ⚡ San Francisco Weather Forecast for December 2024 - day/night 🌡️ temperatures, precipitations - World-Weather.info ... Add the current city. Search. Weather; Archive; Widgets °F. World; United States; California; Weather in San Francisco; Weather in San Francisco in December 2024. ... 19 +61° +48° 20 +61° +48° 21\"}]', name='tavily_search_results_json', id='41026b99-4685-4e69-a584-68f55cf2e937', tool_call_id='call_7YD1PZqwRLgKejxC2xH5VpHx', artifact={'query': 'weather in San Francisco', 'follow_up_questions': None, 'answer': None, 'images': [], 'results': [{'title': 'Weather in San Francisco', 'url': 'https://www.weatherapi.com/', 'content': \"{'location': {'name': 'San Francisco', 'region': 'California', 'country': 'United States of America', 'lat': 37.775, 'lon': -122.4183, 'tz_id': 'America/Los_Angeles', 'localtime_epoch': 1734584480, 'localtime': '2024-12-18 21:01'}, 'current': {'last_updated_epoch': 1734584400, 'last_updated': '2024-12-18 21:00', 'temp_c': 10.6, 'temp_f': 51.2, 'is_day': 0, 'condition': {'text': 'Partly Cloudy', 'icon': '//cdn.weatherapi.com/weather/64x64/night/116.png', 'code': 1003}, 'wind_mph': 6.9, 'wind_kph': 11.2, 'wind_degree': 41, 'wind_dir': 'NE', 'pressure_mb': 1024.0, 'pressure_in': 30.23, 'precip_mm': 0.0, 'precip_in': 0.0, 'humidity': 93, 'cloud': 56, 'feelslike_c': 10.1, 'feelslike_f': 50.1, 'windchill_c': 10.1, 'windchill_f': 50.1, 'heatindex_c': 10.6, 'heatindex_f': 51.2, 'dewpoint_c': 9.6, 'dewpoint_f': 49.2, 'vis_km': 10.0, 'vis_miles': 6.0, 'uv': 0.0, 'gust_mph': 13.6, 'gust_kph': 21.9}}\", 'score': 0.9857091, 'raw_content': None}, {'title': 'Weather in San Francisco in December 2024', 'url': 'https://world-weather.info/forecast/usa/san_francisco/december-2024/', 'content': 'Detailed ⚡ San Francisco Weather Forecast for December 2024 - day/night 🌡️ temperatures, precipitations - World-Weather.info ... Add the current city. Search. Weather; Archive; Widgets °F. World; United States; California; Weather in San Francisco; Weather in San Francisco in December 2024. ... 19 +61° +48° 20 +61° +48° 21', 'score': 0.90330297, 'raw_content': None}], 'response_time': 2.9})]}}\n",
      "----\n",
      "{'agent': {'messages': [AIMessage(content='The current weather in San Francisco, California, is partly cloudy with a temperature of 10.6°C (51.2°F). The wind is 6.9 mph from the northeast. The humidity is at 93%, and there is no precipitation at the moment. [Source](https://www.weatherapi.com/)', additional_kwargs={'refusal': None}, response_metadata={'token_usage': {'completion_tokens': 66, 'prompt_tokens': 649, 'total_tokens': 715, 'completion_tokens_details': {'accepted_prediction_tokens': 0, 'audio_tokens': 0, 'reasoning_tokens': 0, 'rejected_prediction_tokens': 0}, 'prompt_tokens_details': {'audio_tokens': 0, 'cached_tokens': 0}}, 'model_name': 'gpt-4-0613', 'system_fingerprint': None, 'finish_reason': 'stop', 'logprobs': None}, id='run-4c4114c1-c4bb-4e4b-862b-a443454aa80c-0', usage_metadata={'input_tokens': 649, 'output_tokens': 66, 'total_tokens': 715, 'input_token_details': {'audio': 0, 'cache_read': 0}, 'output_token_details': {'audio': 0, 'reasoning': 0}})]}}\n",
      "----\n"
     ]
    }
   ],
   "source": [
    "for chunk in agent_executor.stream(\n",
    "    {\"messages\": [HumanMessage(content=\"whats the weather in sf?\")]}\n",
    "):\n",
    "    print(chunk)\n",
    "    print(\"----\")"
   ]
  },
  {
   "cell_type": "markdown",
   "id": "9bfcd207-005e-48b2-84f0-ca8138af9b63",
   "metadata": {},
   "source": [
    "## Streaming tokens"
   ]
  },
  {
   "cell_type": "code",
   "execution_count": 48,
   "id": "2e53a662-978e-468e-bf98-f2465c6ca96c",
   "metadata": {},
   "outputs": [
    {
     "name": "stdout",
     "output_type": "stream",
     "text": [
      "--\n",
      "Starting tool: tavily_search_results_json with inputs: {'query': 'current weather in San Francisco'}\n",
      "Done tool: tavily_search_results_json\n",
      "Tool output was: content='[{\"url\": \"https://www.weatherapi.com/\", \"content\": \"{\\'location\\': {\\'name\\': \\'San Francisco\\', \\'region\\': \\'California\\', \\'country\\': \\'United States of America\\', \\'lat\\': 37.775, \\'lon\\': -122.4183, \\'tz_id\\': \\'America/Los_Angeles\\', \\'localtime_epoch\\': 1734584779, \\'localtime\\': \\'2024-12-18 21:06\\'}, \\'current\\': {\\'last_updated_epoch\\': 1734584400, \\'last_updated\\': \\'2024-12-18 21:00\\', \\'temp_c\\': 10.6, \\'temp_f\\': 51.2, \\'is_day\\': 0, \\'condition\\': {\\'text\\': \\'Partly Cloudy\\', \\'icon\\': \\'//cdn.weatherapi.com/weather/64x64/night/116.png\\', \\'code\\': 1003}, \\'wind_mph\\': 6.9, \\'wind_kph\\': 11.2, \\'wind_degree\\': 41, \\'wind_dir\\': \\'NE\\', \\'pressure_mb\\': 1024.0, \\'pressure_in\\': 30.23, \\'precip_mm\\': 0.0, \\'precip_in\\': 0.0, \\'humidity\\': 93, \\'cloud\\': 56, \\'feelslike_c\\': 10.1, \\'feelslike_f\\': 50.1, \\'windchill_c\\': 10.1, \\'windchill_f\\': 50.1, \\'heatindex_c\\': 10.6, \\'heatindex_f\\': 51.2, \\'dewpoint_c\\': 9.6, \\'dewpoint_f\\': 49.2, \\'vis_km\\': 10.0, \\'vis_miles\\': 6.0, \\'uv\\': 0.0, \\'gust_mph\\': 13.6, \\'gust_kph\\': 21.9}}\"}, {\"url\": \"https://www.easeweather.com/north-america/united-states/california/city-and-county-of-san-francisco/san-francisco/december\", \"content\": \"December 2024 Weather - San Francisco Weather in San Francisco for December 2024 Your guide to San Francisco weather in December - trends and predictions In general, the average temperature in San Francisco at the beginning of December is 14.6\\xa0°F. San Francisco in December average weather Temperatures trend during December in San Francisco Our weather forecast for San Francisco in December is based on the analysis of historical data rather than real-time forecast models. San Francisco in December - FAQ Significant rainfall exceeding 229.4\\xa0mm is expected in San Francisco during December, occurring over more than 11 days. Get accurate weather forecasts for San Francisco, located at latitude 37.775 and longitude -122.419.\"}]' name='tavily_search_results_json' tool_call_id='call_XG7lTFGdtb3YbAEr9QFcQsVp' artifact={'query': 'current weather in San Francisco', 'follow_up_questions': None, 'answer': None, 'images': [], 'results': [{'title': 'Weather in San Francisco', 'url': 'https://www.weatherapi.com/', 'content': \"{'location': {'name': 'San Francisco', 'region': 'California', 'country': 'United States of America', 'lat': 37.775, 'lon': -122.4183, 'tz_id': 'America/Los_Angeles', 'localtime_epoch': 1734584779, 'localtime': '2024-12-18 21:06'}, 'current': {'last_updated_epoch': 1734584400, 'last_updated': '2024-12-18 21:00', 'temp_c': 10.6, 'temp_f': 51.2, 'is_day': 0, 'condition': {'text': 'Partly Cloudy', 'icon': '//cdn.weatherapi.com/weather/64x64/night/116.png', 'code': 1003}, 'wind_mph': 6.9, 'wind_kph': 11.2, 'wind_degree': 41, 'wind_dir': 'NE', 'pressure_mb': 1024.0, 'pressure_in': 30.23, 'precip_mm': 0.0, 'precip_in': 0.0, 'humidity': 93, 'cloud': 56, 'feelslike_c': 10.1, 'feelslike_f': 50.1, 'windchill_c': 10.1, 'windchill_f': 50.1, 'heatindex_c': 10.6, 'heatindex_f': 51.2, 'dewpoint_c': 9.6, 'dewpoint_f': 49.2, 'vis_km': 10.0, 'vis_miles': 6.0, 'uv': 0.0, 'gust_mph': 13.6, 'gust_kph': 21.9}}\", 'score': 0.8284712, 'raw_content': None}, {'title': 'December 2024 Weather - San Francisco', 'url': 'https://www.easeweather.com/north-america/united-states/california/city-and-county-of-san-francisco/san-francisco/december', 'content': 'December 2024 Weather - San Francisco Weather in San Francisco for December 2024 Your guide to San Francisco weather in December - trends and predictions In general, the average temperature in San Francisco at the beginning of December is 14.6\\xa0°F. San Francisco in December average weather Temperatures trend during December in San Francisco Our weather forecast for San Francisco in December is based on the analysis of historical data rather than real-time forecast models. San Francisco in December - FAQ Significant rainfall exceeding 229.4\\xa0mm is expected in San Francisco during December, occurring over more than 11 days. Get accurate weather forecasts for San Francisco, located at latitude 37.775 and longitude -122.419.', 'score': 0.82795376, 'raw_content': None}], 'response_time': 2.61}\n",
      "--\n",
      "The| current| weather| in| San| Francisco|,| California| is| partly| cloudy| with| a| temperature| of| |10|.|6|°C| (|51|.|2|°F|).| The| wind| is| coming| from| the| northeast| at| a| speed| of| |11|.|2| k|ph| (|6|.|9| mph|).| The| humidity| is| at| |93|%.| [|More| Info|](|https|://|www|.weather|api|.com|/)\n",
      "|"
     ]
    }
   ],
   "source": [
    "async for event in agent_executor.astream_events(\n",
    "    {\"messages\": [HumanMessage(content=\"whats the weather in sf?\")]}, version=\"v1\"\n",
    "):\n",
    "    kind = event[\"event\"]\n",
    "    if kind == \"on_chain_start\":\n",
    "        if (\n",
    "            event[\"name\"] == \"Agent\"\n",
    "        ):  # Was assigned when creating the agent with `.with_config({\"run_name\": \"Agent\"})`\n",
    "            print(\n",
    "                f\"Starting agent: {event['name']} with input: {event['data'].get('input')}\"\n",
    "            )\n",
    "    elif kind == \"on_chain_end\":\n",
    "        if (\n",
    "            event[\"name\"] == \"Agent\"\n",
    "        ):  # Was assigned when creating the agent with `.with_config({\"run_name\": \"Agent\"})`\n",
    "            print()\n",
    "            print(\"--\")\n",
    "            print(\n",
    "                f\"Done agent: {event['name']} with output: {event['data'].get('output')['output']}\"\n",
    "            )\n",
    "    if kind == \"on_chat_model_stream\":\n",
    "        content = event[\"data\"][\"chunk\"].content\n",
    "        if content:\n",
    "            # Empty content in the context of OpenAI means\n",
    "            # that the model is asking for a tool to be invoked.\n",
    "            # So we only print non-empty content\n",
    "            print(content, end=\"|\")\n",
    "    elif kind == \"on_tool_start\":\n",
    "        print(\"--\")\n",
    "        print(\n",
    "            f\"Starting tool: {event['name']} with inputs: {event['data'].get('input')}\"\n",
    "        )\n",
    "    elif kind == \"on_tool_end\":\n",
    "        print(f\"Done tool: {event['name']}\")\n",
    "        print(f\"Tool output was: {event['data'].get('output')}\")\n",
    "        print(\"--\")"
   ]
  },
  {
   "cell_type": "markdown",
   "id": "797412d6-c2e0-473c-b070-7e18a6cc553a",
   "metadata": {},
   "source": [
    "## Adding memory"
   ]
  },
  {
   "cell_type": "code",
   "execution_count": 49,
   "id": "6d0b4201-c64d-44ee-923b-112259788e5d",
   "metadata": {},
   "outputs": [
    {
     "data": {
      "text/plain": [
       "[HumanMessage(content=\"Hi, my name's Bob?\", additional_kwargs={}, response_metadata={}, id='ac527c8f-416c-4a64-be51-a6bdf60d0985'),\n",
       " AIMessage(content='Hello Bob! How can I assist you today?', additional_kwargs={'refusal': None}, response_metadata={'token_usage': {'completion_tokens': 11, 'prompt_tokens': 88, 'total_tokens': 99, 'completion_tokens_details': {'accepted_prediction_tokens': 0, 'audio_tokens': 0, 'reasoning_tokens': 0, 'rejected_prediction_tokens': 0}, 'prompt_tokens_details': {'audio_tokens': 0, 'cached_tokens': 0}}, 'model_name': 'gpt-4-0613', 'system_fingerprint': None, 'finish_reason': 'stop', 'logprobs': None}, id='run-bfc2d8c9-6589-40b3-97b3-6d45439e8c8b-0', usage_metadata={'input_tokens': 88, 'output_tokens': 11, 'total_tokens': 99, 'input_token_details': {'audio': 0, 'cache_read': 0}, 'output_token_details': {'audio': 0, 'reasoning': 0}})]"
      ]
     },
     "execution_count": 49,
     "metadata": {},
     "output_type": "execute_result"
    }
   ],
   "source": [
    "response = agent_executor.invoke(\n",
    "    {\"messages\": [HumanMessage(content=\"Hi, my name's Bob?\")]}\n",
    ")\n",
    "response[\"messages\"]"
   ]
  },
  {
   "cell_type": "code",
   "execution_count": 52,
   "id": "dc5390f7-71e1-44d2-9445-e3e882b89740",
   "metadata": {},
   "outputs": [],
   "source": [
    "from langgraph.checkpoint.memory import MemorySaver\n",
    "\n",
    "memory = MemorySaver()\n",
    "agent_executor = create_react_agent(model, tools, checkpointer=memory)\n",
    "\n",
    "config = {\"configurable\": {\"thread_id\": \"abc123\"}}"
   ]
  },
  {
   "cell_type": "code",
   "execution_count": 53,
   "id": "dafcf2ef-a78f-4fd6-a417-ae3f29129db8",
   "metadata": {},
   "outputs": [
    {
     "name": "stdout",
     "output_type": "stream",
     "text": [
      "{'agent': {'messages': [AIMessage(content='Hello Bob! How can I assist you today?', additional_kwargs={'refusal': None}, response_metadata={'token_usage': {'completion_tokens': 11, 'prompt_tokens': 85, 'total_tokens': 96, 'completion_tokens_details': {'accepted_prediction_tokens': 0, 'audio_tokens': 0, 'reasoning_tokens': 0, 'rejected_prediction_tokens': 0}, 'prompt_tokens_details': {'audio_tokens': 0, 'cached_tokens': 0}}, 'model_name': 'gpt-4-0613', 'system_fingerprint': None, 'finish_reason': 'stop', 'logprobs': None}, id='run-81a8ac9c-182a-4550-b513-04373674f0aa-0', usage_metadata={'input_tokens': 85, 'output_tokens': 11, 'total_tokens': 96, 'input_token_details': {'audio': 0, 'cache_read': 0}, 'output_token_details': {'audio': 0, 'reasoning': 0}})]}}\n",
      "----\n"
     ]
    }
   ],
   "source": [
    "for chunk in agent_executor.stream(\n",
    "    {\"messages\": [HumanMessage(content=\"hi im bob!\")]}, config\n",
    "):\n",
    "    print(chunk)\n",
    "    print(\"----\")"
   ]
  },
  {
   "cell_type": "code",
   "execution_count": 54,
   "id": "f74fdd7d-4d81-413e-9ccf-3ea8f4bbbc2b",
   "metadata": {},
   "outputs": [
    {
     "name": "stdout",
     "output_type": "stream",
     "text": [
      "{'agent': {'messages': [AIMessage(content='Your name is Bob.', additional_kwargs={'refusal': None}, response_metadata={'token_usage': {'completion_tokens': 6, 'prompt_tokens': 108, 'total_tokens': 114, 'completion_tokens_details': {'accepted_prediction_tokens': 0, 'audio_tokens': 0, 'reasoning_tokens': 0, 'rejected_prediction_tokens': 0}, 'prompt_tokens_details': {'audio_tokens': 0, 'cached_tokens': 0}}, 'model_name': 'gpt-4-0613', 'system_fingerprint': None, 'finish_reason': 'stop', 'logprobs': None}, id='run-d15873f2-caf5-4e5e-96a6-7704c3e1e001-0', usage_metadata={'input_tokens': 108, 'output_tokens': 6, 'total_tokens': 114, 'input_token_details': {'audio': 0, 'cache_read': 0}, 'output_token_details': {'audio': 0, 'reasoning': 0}})]}}\n",
      "----\n"
     ]
    }
   ],
   "source": [
    "for chunk in agent_executor.stream(\n",
    "    {\"messages\": [HumanMessage(content=\"whats my name?\")]}, config\n",
    "):\n",
    "    print(chunk)\n",
    "    print(\"----\")"
   ]
  },
  {
   "cell_type": "code",
   "execution_count": null,
   "id": "2ca7894e-d0a9-4221-9028-a3a457d18463",
   "metadata": {},
   "outputs": [],
   "source": []
  }
 ],
 "metadata": {
  "kernelspec": {
   "display_name": "langchain-venv",
   "language": "python",
   "name": "langchain-venv"
  },
  "language_info": {
   "codemirror_mode": {
    "name": "ipython",
    "version": 3
   },
   "file_extension": ".py",
   "mimetype": "text/x-python",
   "name": "python",
   "nbconvert_exporter": "python",
   "pygments_lexer": "ipython3",
   "version": "3.12.6"
  }
 },
 "nbformat": 4,
 "nbformat_minor": 5
}
