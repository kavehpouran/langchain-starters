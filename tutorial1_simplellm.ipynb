{
 "cells": [
  {
   "cell_type": "code",
   "execution_count": null,
   "id": "30b7fcd9-debd-4f61-97a0-a1b5d105c0c7",
   "metadata": {},
   "outputs": [],
   "source": [
    "# Requirement:\n",
    "#!pip install -qU langchain-openai"
   ]
  },
  {
   "cell_type": "code",
   "execution_count": 7,
   "id": "35056adb-dc61-477e-8f09-bf366a6fa30e",
   "metadata": {},
   "outputs": [],
   "source": [
    "import os\n",
    "import getpass\n",
    "\n",
    "from langchain_openai import ChatOpenAI\n",
    "from langchain_core.messages import HumanMessage, SystemMessage\n",
    "from langchain_core.prompts import ChatPromptTemplate"
   ]
  },
  {
   "cell_type": "code",
   "execution_count": 5,
   "id": "9b11f964-7a2b-4bd6-a8c0-9286efe26de0",
   "metadata": {},
   "outputs": [
    {
     "name": "stdin",
     "output_type": "stream",
     "text": [
      "Enter your Langchain/Langsmith key ········\n",
      "Enter your OpenAPI key ········\n"
     ]
    }
   ],
   "source": [
    "os.environ[\"LANGCHAIN_TRACING_V2\"] = \"true\"\n",
    "os.environ[\"LANGCHAIN_API_KEY\"] = getpass.getpass(prompt=\"Enter your Langchain/Langsmith key\")#\n",
    "os.environ[\"OPENAI_API_KEY\"] = getpass.getpass(prompt=\"Enter your OpenAPI key\")#  "
   ]
  },
  {
   "cell_type": "markdown",
   "id": "f457a00b-4ab1-40a0-90b7-231f5a21b463",
   "metadata": {},
   "source": [
    "### Get a response to a simple prompt"
   ]
  },
  {
   "cell_type": "code",
   "execution_count": 8,
   "id": "70578244-0d9f-4927-ae03-76eb439904b9",
   "metadata": {},
   "outputs": [],
   "source": [
    "# Set up the model to be used further below\n",
    "model = ChatOpenAI(model=\"gpt-4o-mini\")"
   ]
  },
  {
   "cell_type": "code",
   "execution_count": 15,
   "id": "4458247d-f2e8-43c7-aa6f-f7e4ad1882ec",
   "metadata": {},
   "outputs": [
    {
     "data": {
      "text/plain": [
       "AIMessage(content='Ciao!', additional_kwargs={'refusal': None}, response_metadata={'token_usage': {'completion_tokens': 3, 'prompt_tokens': 20, 'total_tokens': 23, 'completion_tokens_details': {'accepted_prediction_tokens': 0, 'audio_tokens': 0, 'reasoning_tokens': 0, 'rejected_prediction_tokens': 0}, 'prompt_tokens_details': {'audio_tokens': 0, 'cached_tokens': 0}}, 'model_name': 'gpt-4o-mini-2024-07-18', 'system_fingerprint': 'fp_6fc10e10eb', 'finish_reason': 'stop', 'logprobs': None}, id='run-622f28a2-4f56-4d81-abb7-cc000095a597-0', usage_metadata={'input_tokens': 20, 'output_tokens': 3, 'total_tokens': 23, 'input_token_details': {'audio': 0, 'cache_read': 0}, 'output_token_details': {'audio': 0, 'reasoning': 0}})"
      ]
     },
     "execution_count": 15,
     "metadata": {},
     "output_type": "execute_result"
    }
   ],
   "source": [
    "messages = [\n",
    "    SystemMessage(\"Translate the following from English into Italian\"),\n",
    "    HumanMessage(\"hi!\"),\n",
    "]\n",
    "\n",
    "model.invoke(messages)"
   ]
  },
  {
   "cell_type": "markdown",
   "id": "e5dc668e-8b02-4598-af7f-db17b53f3162",
   "metadata": {},
   "source": [
    "### Message streaming"
   ]
  },
  {
   "cell_type": "code",
   "execution_count": 22,
   "id": "c57054d8-502b-459d-9ac4-c5118106c32d",
   "metadata": {},
   "outputs": [
    {
     "name": "stdout",
     "output_type": "stream",
     "text": [
      "|C|iao|!||"
     ]
    }
   ],
   "source": [
    "for token in model.stream(messages):\n",
    "    print(token.content, end=\"|\")"
   ]
  },
  {
   "cell_type": "markdown",
   "id": "181574a8-7084-481c-a26b-0f7870178f83",
   "metadata": {},
   "source": [
    "### Using dynamic prompts "
   ]
  },
  {
   "cell_type": "code",
   "execution_count": 23,
   "id": "d887dca2-3af1-4185-9495-96b2d5618b09",
   "metadata": {},
   "outputs": [],
   "source": [
    "system_template = \"Translate the following from English into {language}\"\n",
    "\n",
    "prompt_template = ChatPromptTemplate.from_messages(\n",
    "    [(\"system\", system_template), (\"user\", \"{text}\")]\n",
    ")"
   ]
  },
  {
   "cell_type": "code",
   "execution_count": 27,
   "id": "94443092-4ca4-4a41-baca-4e4ed152a2a4",
   "metadata": {},
   "outputs": [
    {
     "data": {
      "text/plain": [
       "ChatPromptValue(messages=[SystemMessage(content='Translate the following from English into German', additional_kwargs={}, response_metadata={}), HumanMessage(content='Hey there!', additional_kwargs={}, response_metadata={})])"
      ]
     },
     "execution_count": 27,
     "metadata": {},
     "output_type": "execute_result"
    }
   ],
   "source": [
    "prompt = prompt_template.invoke({\"language\": \"German\", \"text\": \"Hey there!\"})\n",
    "\n",
    "prompt"
   ]
  },
  {
   "cell_type": "code",
   "execution_count": 28,
   "id": "d12a92ef-38e5-45fa-b2b4-ed4fe7c7b707",
   "metadata": {},
   "outputs": [
    {
     "data": {
      "text/plain": [
       "[SystemMessage(content='Translate the following from English into German', additional_kwargs={}, response_metadata={}),\n",
       " HumanMessage(content='Hey there!', additional_kwargs={}, response_metadata={})]"
      ]
     },
     "execution_count": 28,
     "metadata": {},
     "output_type": "execute_result"
    }
   ],
   "source": [
    "prompt.to_messages()"
   ]
  },
  {
   "cell_type": "code",
   "execution_count": 29,
   "id": "93dd74e3-ac80-49a3-b958-e3883da7a4f9",
   "metadata": {},
   "outputs": [
    {
     "name": "stdout",
     "output_type": "stream",
     "text": [
      "Hallo!\n"
     ]
    }
   ],
   "source": [
    "response = model.invoke(prompt)\n",
    "print(response.content)"
   ]
  }
 ],
 "metadata": {
  "kernelspec": {
   "display_name": "langchain-venv",
   "language": "python",
   "name": "langchain-venv"
  },
  "language_info": {
   "codemirror_mode": {
    "name": "ipython",
    "version": 3
   },
   "file_extension": ".py",
   "mimetype": "text/x-python",
   "name": "python",
   "nbconvert_exporter": "python",
   "pygments_lexer": "ipython3",
   "version": "3.12.6"
  }
 },
 "nbformat": 4,
 "nbformat_minor": 5
}
